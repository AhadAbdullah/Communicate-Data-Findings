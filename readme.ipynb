{
  "nbformat": 4,
  "nbformat_minor": 0,
  "metadata": {
    "colab": {
      "provenance": []
    },
    "kernelspec": {
      "name": "python3",
      "display_name": "Python 3"
    },
    "language_info": {
      "name": "python"
    }
  },
  "cells": [
    {
      "cell_type": "markdown",
      "source": [
        "# Flight Performance"
      ],
      "metadata": {
        "id": "NnA48l2k-32H"
      }
    },
    {
      "cell_type": "markdown",
      "source": [
        "## by Ahad Alotaibi\n"
      ],
      "metadata": {
        "id": "PPnKhk-a-6jG"
      }
    },
    {
      "cell_type": "markdown",
      "source": [
        "## Project Details\n",
        ">This project was done as a part of Udacity's Data Analyst Nanodegree program. The objective of this project was to use Python visualization libraries to explore a dataset systematically. The analysis begins with exploring single variables followed by bivariate and multivariate analysis.\n",
        "\n",
        ">This analysis is followed by a short presentation to convey and highlight important findings using explanatory data analysis. A slide deck was prepared that followed the major path of exploration and a story was constructed for the readers to understand what was discovered.\n"
      ],
      "metadata": {
        "id": "kowJLLV0--eo"
      }
    },
    {
      "cell_type": "markdown",
      "source": [
        "## Dataset"
      ],
      "metadata": {
        "id": "r7XuNJja_HZd"
      }
    },
    {
      "cell_type": "markdown",
      "source": [
        ">This dataset was selected from the list provided by Udacity. It is the Flights dataset that reports flight performance metric in the US. Data explored and analyzed is for 2008 year. The data is available from Bureau of Transportation Statistics official website.\n",
        "\n",
        ">Link to dataset: http://stat-computing.org/dataexpo/2009/the-data.html\n",
        "\n",
        ">Link to Bureau of Transportation Statistics: https://www.transtats.bts.gov/OT_Delay/OT_DelayCause1.asp"
      ],
      "metadata": {
        "id": "7-uQ8LkO_N6h"
      }
    },
    {
      "cell_type": "markdown",
      "source": [
        "## Summary of Findings\n"
      ],
      "metadata": {
        "id": "UEphInVI_bTn"
      }
    },
    {
      "cell_type": "markdown",
      "source": [
        ">After analyzing this data, we found that the highest cause of delays came from the carrier or weather related problems. American Airlines was the worst performing carrier with highest delays and cancellations in 2008. This has been shown in the presentation with the help of graphs and charts."
      ],
      "metadata": {
        "id": "atGCYOJV_kV9"
      }
    },
    {
      "cell_type": "markdown",
      "source": [
        "## Key Insights for Presentation\n"
      ],
      "metadata": {
        "id": "FMQ-g0hQ_cbh"
      }
    },
    {
      "cell_type": "markdown",
      "source": [
        ">  \n",
        "\n",
        "*   Carrier and weather-related cancellations were most common.\n",
        "*   American Airlines performed the worst in terms of both delays and cancellations.\n",
        "*   Weather related delays were more significant as we saw in the comparison of delay reasons.\n",
        "*   There is Linear relationship between departure and arrival delays\n",
        "*   The top 50 busiest destinations, the number of flights does influence average arrival delay and .\n",
        "*   The top 50 busiest Origin, the number of flights does influence average Departure delay\n"
      ],
      "metadata": {
        "id": "u0mTTd3U_dZ9"
      }
    }
  ]
}